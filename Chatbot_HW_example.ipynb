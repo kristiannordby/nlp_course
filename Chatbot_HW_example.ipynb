{
 "cells": [
  {
   "cell_type": "markdown",
   "metadata": {},
   "source": []
  },
  {
   "cell_type": "code",
   "execution_count": 34,
   "metadata": {},
   "outputs": [],
   "source": [
    "from sklearn.feature_extraction.text import TfidfVectorizer"
   ]
  },
  {
   "cell_type": "code",
   "execution_count": 35,
   "metadata": {},
   "outputs": [
    {
     "name": "stdout",
     "output_type": "stream",
     "text": [
      "<Compressed Sparse Row sparse matrix of dtype 'float64'\n",
      "\twith 8 stored elements and shape (2, 5)>\n",
      "  Coords\tValues\n",
      "  (0, 2)\t0.5773502691896258\n",
      "  (0, 3)\t0.5773502691896258\n",
      "  (0, 1)\t0.5773502691896258\n",
      "  (1, 2)\t0.3793034928087496\n",
      "  (1, 3)\t0.3793034928087496\n",
      "  (1, 1)\t0.3793034928087496\n",
      "  (1, 4)\t0.5330978245262535\n",
      "  (1, 0)\t0.5330978245262535\n"
     ]
    }
   ],
   "source": [
    "tfidf_vectorizer = TfidfVectorizer()\n",
    "\n",
    "sentence1 = \"I love playing basketball\"\n",
    "sentence2 = \"I love playing soccer and basketball\"\n",
    "\n",
    "compare_list = [sentence1,sentence2]\n",
    "\n",
    "tfidf_matrix=tfidf_vectorizer.fit_transform(compare_list)\n",
    "print(tfidf_matrix)"
   ]
  },
  {
   "cell_type": "code",
   "execution_count": 4,
   "metadata": {},
   "outputs": [
    {
     "data": {
      "text/plain": [
       "{'love': 2, 'playing': 3, 'basketball': 1, 'soccer': 4, 'and': 0}"
      ]
     },
     "execution_count": 4,
     "metadata": {},
     "output_type": "execute_result"
    }
   ],
   "source": [
    "tfidf_vectorizer.vocabulary_"
   ]
  },
  {
   "cell_type": "code",
   "execution_count": 36,
   "metadata": {},
   "outputs": [],
   "source": [
    "from sklearn.feature_extraction.text import TfidfVectorizer\n",
    "from sklearn.metrics.pairwise import cosine_similarity\n",
    "\n",
    "tfidf_vectorizer = TfidfVectorizer()\n",
    "compare_list = [sentence1,sentence2]\n",
    "tfidf_matrix=tfidf_vectorizer.fit_transform(compare_list)\n",
    "\n",
    "cos_sim=cosine_similarity(tfidf_matrix)\n"
   ]
  },
  {
   "cell_type": "code",
   "execution_count": 37,
   "metadata": {},
   "outputs": [
    {
     "name": "stdout",
     "output_type": "stream",
     "text": [
      "I love playing basketball \t I love playing soccer and basketball\n",
      "The cosine similarity between the two sentences is 0.6569729210330906\n"
     ]
    }
   ],
   "source": [
    "cos_sim=cosine_similarity(tfidf_matrix)\n",
    "print(sentence1,\"\\t\",sentence2)\n",
    "print(f\"The cosine similarity between the two sentences is {cos_sim[0,1]}\")"
   ]
  },
  {
   "cell_type": "markdown",
   "metadata": {},
   "source": [
    "# Chatbot Homework"
   ]
  },
  {
   "cell_type": "code",
   "execution_count": 38,
   "metadata": {},
   "outputs": [],
   "source": [
    "import re\n",
    "from sklearn.feature_extraction.text import TfidfVectorizer\n",
    "from sklearn.metrics.pairwise import cosine_similarity\n",
    "\n",
    "tfidf_vectorizer = TfidfVectorizer()\n",
    "# compare_list = [sentence1,sentence2]\n",
    "tfidf_matrix=tfidf_vectorizer.fit_transform(compare_list)\n",
    "\n",
    "cos_sim=cosine_similarity(tfidf_matrix)\n"
   ]
  },
  {
   "cell_type": "code",
   "execution_count": 111,
   "metadata": {},
   "outputs": [],
   "source": [
    "pairs = [\n",
    "    (r'hi | hello', ['Hello!','Hi there!']),\n",
    "    (r'my name is (.*)', ['Hello %1, nice to meet you!']),\n",
    "    (r'how are you?', ['I am doing well, thank you!']),\n",
    "    (r'what is your name?', ['I am a chatbot, designed to help give you the West Point Tour.']),\n",
    "    (r'where are you from?', ['West Point.']),\n",
    "    (r'bye', ['Goodbye!']),\n",
    "    (r'Who is the superintendent?', ['The Superintendent is Lieutenant General Steve Gilland.','General Gilland']),\n",
    "    (r'Who is the Commandant?', ['The Commadant of Cadets is Brigadier General RJ Garcia.', 'General RJ Garcia']),\n",
    "    (r'Who is the Dean?', ['The Dean of the academic board is Brigadier General Shane Reeves.','General Reeves']),\n",
    "    (r'Where is Washington Hall?', ['Washington hall is above the mess hall, next to Ike and Macarthur-long barracks.']),\n",
    "    (r'Where is Mahan Hall?', ['Mahan Hall is across from building 606, at grant turnaround.']),\n",
    "    (r'Where is Grant Hall?', ['Grant Hall is behind Grant Barracks.']),\n",
    "    (r'Where is Bartlett Hall?', ['Bartlett hall is between Pershing Barracks and Thayer Hall.']),\n",
    "    (r'When was West Point Founded?', ['West Point was founded in 1802.']),\n",
    "    (r'Who founded West Point?', ['West Point was founded by President Thomas Jefferson in 1802.']),\n",
    "    (r'Who was Dennis Michie?', ['Dennis Michie was the first captain of the West Point football team. 1LT Michie was KIA in Cuba in 1898.']),\n",
    "]"
   ]
  },
  {
   "cell_type": "code",
   "execution_count": 112,
   "metadata": {},
   "outputs": [],
   "source": [
    "def chatbot_response(user_input):\n",
    "    for i in pairs:\n",
    "        pattern = ''.join(i[0])\n",
    "        responses=i[1]\n",
    "        compare_list = [pattern,user_input.lower()]\n",
    "\n",
    "        tfidf_vectorizer = TfidfVectorizer()\n",
    "        tfidf_matrix=tfidf_vectorizer.fit_transform(compare_list)\n",
    "        cos_sim=cosine_similarity(tfidf_matrix)[0,1]\n",
    "\n",
    "        if cos_sim>=0.7:\n",
    "            match=True\n",
    "        else:\n",
    "            match=False\n",
    "        if match:\n",
    "            response=responses[0]\n",
    "            if '%1' in response:\n",
    "                response = response.replace('%1',match.group(1))\n",
    "            return response\n",
    "        else:\n",
    "            continue"
   ]
  },
  {
   "cell_type": "code",
   "execution_count": 113,
   "metadata": {},
   "outputs": [
    {
     "data": {
      "text/plain": [
       "'Dennis Michie was the first captain of the West Point football team. 1LT Michie was KIA in Cuba in 1898.'"
      ]
     },
     "execution_count": 113,
     "metadata": {},
     "output_type": "execute_result"
    }
   ],
   "source": [
    "chatbot_response(\"who was dennis michie?\")"
   ]
  },
  {
   "cell_type": "code",
   "execution_count": 115,
   "metadata": {},
   "outputs": [
    {
     "name": "stdout",
     "output_type": "stream",
     "text": [
      "Chatbot: Hello! I am your west point your guide. Here are some questions you can ask me: \n",
      " ['Who is the superintendent?', 'Who is the Commandant?', 'Who is the Dean?', 'Where is Washington Hall?']\n",
      "Type 'bye' to exit\n",
      "You: who is the commandant\n",
      "Chatbot: The Commadant of Cadets is Brigadier General RJ Garcia.\n",
      "You: bye\n",
      "Chatbot: Goodbye!\n"
     ]
    }
   ],
   "source": [
    "print(f\"Chatbot: Hello! I am your west point your guide. Here are some questions you can ask me: \\n {[i[0] for i in pairs[6:10]]}\\nType 'bye' to exit\")\n",
    "while True:\n",
    "    user_input = input('You: ')\n",
    "    if user_input.lower()=='bye':\n",
    "        print(f'You: {user_input}')\n",
    "        print('Chatbot: Goodbye!')\n",
    "        break\n",
    "    response=chatbot_response(user_input)\n",
    "    print(f\"You: {user_input}\")\n",
    "    print(f\"Chatbot: {response}\")"
   ]
  },
  {
   "cell_type": "code",
   "execution_count": null,
   "metadata": {},
   "outputs": [],
   "source": []
  }
 ],
 "metadata": {
  "kernelspec": {
   "display_name": "wp_nlp",
   "language": "python",
   "name": "python3"
  },
  "language_info": {
   "codemirror_mode": {
    "name": "ipython",
    "version": 3
   },
   "file_extension": ".py",
   "mimetype": "text/x-python",
   "name": "python",
   "nbconvert_exporter": "python",
   "pygments_lexer": "ipython3",
   "version": "3.12.4"
  }
 },
 "nbformat": 4,
 "nbformat_minor": 2
}

{
 "cells": [
  {
   "cell_type": "code",
   "execution_count": 5,
   "metadata": {},
   "outputs": [],
   "source": [
    "from PyPDF2 import PdfReader"
   ]
  },
  {
   "cell_type": "code",
   "execution_count": 25,
   "metadata": {},
   "outputs": [
    {
     "name": "stdout",
     "output_type": "stream",
     "text": [
      "Number of pages: 5\n"
     ]
    }
   ],
   "source": [
    "with open(r\"C:\\Users\\kristian.nordby\\OneDrive - West Point\\Desktop\\AY 25-1\\NLP\\NLP_Syllabus.pdf\",'rb') as f:\n",
    "    reader = PdfReader(f)\n",
    "    num_pages = len(reader.pages)\n",
    "    print(f\"Number of pages: {num_pages}\")"
   ]
  },
  {
   "cell_type": "code",
   "execution_count": 28,
   "metadata": {},
   "outputs": [],
   "source": [
    "reader = PdfReader(r\"C:\\Users\\kristian.nordby\\OneDrive - West Point\\Desktop\\AY 25-1\\NLP\\NLP_Syllabus.pdf\")\n",
    "page = reader.pages[0]"
   ]
  },
  {
   "cell_type": "code",
   "execution_count": 37,
   "metadata": {},
   "outputs": [],
   "source": [
    "text = [reader.pages[i].extract_text() for i in range(len(reader.pages))]"
   ]
  },
  {
   "cell_type": "code",
   "execution_count": 40,
   "metadata": {},
   "outputs": [
    {
     "name": "stdout",
     "output_type": "stream",
     "text": [
      "Department of Mathematics\n",
      "Natural Language Processing\n",
      "Meeting Method: Face-to-Face\n",
      "Course Description\n",
      "This course provides a comprehensive introduction to Natural Language Processing (NLP). Students will\n",
      "learn the fundamentals of processing and analyzing human language using computer algorithms. The course\n",
      "covers various NLP tasks, including text classification, sentiment analysis, machine translation, and more.\n",
      "Practical hands-on exercises and projects are emphasized throughout the course.\n",
      "Prerequisites\n",
      "•Basic programming knowledge (Python is recommended).\n",
      "•Familiarity with machine learning concepts.\n",
      "•Understanding of fundamental linguistics is a plus but not required.\n",
      "Textbook\n",
      "•”Natural Language Processing in Action” by Lane, Howard, and Hapke.\n",
      "Course Objective\n",
      "This course aims to achieve the following objectives:\n",
      "•Provide students with a comprehensive introduction to Natural Language Processing (NLP).\n",
      "•Equip students with the fundamentals of processing and analyzing human language using computer\n",
      "algorithms.\n",
      "•Cover various NLP tasks, including text classification, sentiment analysis, machine translation, and\n",
      "more.\n",
      "•Emphasize practical hands-on exercises and projects to reinforce NLP concepts and skills.\n",
      "Instructor\n",
      "Name:\n",
      "Office:\n",
      "Extension:\n",
      "Office Hours and platform:\n",
      "E-mail:\n",
      "1\n",
      "Group Projects &Final Project Dates\n",
      "Project I: TBA\n",
      "Project II: TBA\n",
      "Final Project : TBA\n",
      "Grading\n",
      "•Weekly Assignments: 20%\n",
      "•Group Project I: 20%\n",
      "•Group Project II: 20%\n",
      "•Final Project: 30%\n",
      "•Class Participation: 10%\n",
      "Grading formula\n",
      "Percent Letter Grade\n",
      "100%−90% A\n",
      "89%−80% B\n",
      "79%−70% C\n",
      "69%−60% D\n",
      "Below 60% F\n",
      "Student Learning Outcomes\n",
      "Upon successful completion of this course, students will be able to:\n",
      "1. Understand the fundamental concepts and principles of Natural Language Processing (NLP).\n",
      "2. Apply NLP techniques to process and analyze human language using computer algorithms.\n",
      "3. Perform text classification tasks, including document categorization and sentiment analysis.\n",
      "4. Gain proficiency in machine translation and understand its challenges.\n",
      "5. Develop practical NLP skills through hands-on exercises and projects.\n",
      "6. Evaluate and select appropriate NLP algorithms and tools for specific language processing tasks.\n",
      "Week 1: Introduction to NLP\n",
      "•What is Natural Language Processing (NLP)?\n",
      "•History and evolution of NLP.\n",
      "•NLP applications and challenges.\n",
      "•Setting up the Python environment.\n",
      "2\n",
      "Week 2: Text Preprocessing\n",
      "•Tokenization and stemming.\n",
      "•Removing stop words and punctuation.\n",
      "•Normalization and case-folding.\n",
      "•Practical: Preprocessing text data.\n",
      "Week 3-4: Text Classification\n",
      "•Text classification basics.\n",
      "•Supervised vs. unsupervised text classification.\n",
      "•Naive Bayes and Logistic Regression for text classification.\n",
      "•Evaluation metrics for classification tasks.\n",
      "•Practical: Building a text classifier.\n",
      "Week 5: Sentiment Analysis\n",
      "•Understanding sentiment analysis.\n",
      "•Lexicon-based vs. machine learning-based sentiment analysis.\n",
      "•Practical: Sentiment analysis on social media data.\n",
      "Week 6-7: Language Models and Embeddings\n",
      "•Introduction to language models.\n",
      "•Word embeddings (Word2Vec, GloVe).\n",
      "•Pre-trained language models (BERT, GPT-3).\n",
      "•Practical: Word embeddings and language models.\n",
      "Week 8: Named Entity Recognition (NER)\n",
      "•NER tasks and challenges.\n",
      "•Rule-based and machine learning-based NER.\n",
      "•NER evaluation methods.\n",
      "•Practical: Implementing a NER system.\n",
      "Week 9-10: Machine Translation\n",
      "•Introduction to machine translation.\n",
      "•Statistical vs. neural machine translation.\n",
      "•Sequence-to-sequence models for translation.\n",
      "•Practical: Building a machine translation system.\n",
      "3\n",
      "Week 11: Text Generation\n",
      "•Text generation techniques.\n",
      "•Recurrent Neural Networks (RNNs) for text generation.\n",
      "•Ethical considerations in text generation.\n",
      "•Practical: Generating creative text.\n",
      "Week 12-13: Advanced NLP Topics\n",
      "•Topic modeling (LDA, NMF).\n",
      "•Text summarization and document clustering.\n",
      "•Conversational AI and chatbots.\n",
      "•Practical: Advanced NLP projects.\n",
      "Week 14: Ethics and Bias in NLP\n",
      "•Bias in NLP models.\n",
      "•Fairness and transparency in NLP.\n",
      "•Mitigating bias in NLP applications.\n",
      "•Practical: Addressing bias in NLP projects.\n",
      "Week 15: Final Projects and Presentations\n",
      "•Students work on NLP projects.\n",
      "•They choose from a list of project topics or propose their own.\n",
      "•Projects involve text data analysis, modeling, and presentation.\n",
      "Course Materials\n",
      "•Lecture notes, code examples, and datasets will be provided.\n",
      "•Access to Jupyter notebooks for hands-on practice.\n",
      "Additional Resources\n",
      "•Online tutorials, documentation, and NLP communities.\n",
      "•Research papers and case studies in NLP.\n",
      "4\n",
      "Virtual Meeting Policies\n",
      "1.No cell phone usage during class, including texting. No surfing on your computer. Please\n",
      "turn your ringer off before the start of class.\n",
      "2.Research has shown that students who regularly attend class tend to do better than those\n",
      "who do not. Please be on time.\n",
      "3.Class time calculator policy:\n",
      "4.Be polite to your classmates. Ask questions through the chat feature if the class is large.\n",
      "Classes with Classroom Meeting Locations\n",
      "If your class is assigned a classroom, it is considered a face-to-face class, and the final exam will be IN\n",
      "PERSON, regardless of how your instructor gives exams during the semester.\n",
      "5\n"
     ]
    }
   ],
   "source": [
    "for i in text:\n",
    "    i."
   ]
  },
  {
   "cell_type": "markdown",
   "metadata": {},
   "source": [
    "# Strings Methods"
   ]
  },
  {
   "cell_type": "code",
   "execution_count": 4,
   "metadata": {},
   "outputs": [
    {
     "data": {
      "text/plain": [
       "'K%R%I%S%T%I%A%N'"
      ]
     },
     "execution_count": 4,
     "metadata": {},
     "output_type": "execute_result"
    }
   ],
   "source": [
    "##Title\n",
    "name = \"k%r%i%s%t%i%a%n\"\n",
    "name.title()"
   ]
  },
  {
   "cell_type": "code",
   "execution_count": 7,
   "metadata": {},
   "outputs": [
    {
     "data": {
      "text/plain": [
       "['k', 'r', 'i', 's', 't', 'i', 'a', 'n']"
      ]
     },
     "execution_count": 7,
     "metadata": {},
     "output_type": "execute_result"
    }
   ],
   "source": [
    "name.split('%')"
   ]
  },
  {
   "cell_type": "code",
   "execution_count": 23,
   "metadata": {},
   "outputs": [],
   "source": [
    "string = 'hello'"
   ]
  },
  {
   "cell_type": "code",
   "execution_count": 24,
   "metadata": {},
   "outputs": [
    {
     "data": {
      "text/plain": [
       "False"
      ]
     },
     "execution_count": 24,
     "metadata": {},
     "output_type": "execute_result"
    }
   ],
   "source": [
    "string.isnumeric()"
   ]
  },
  {
   "cell_type": "code",
   "execution_count": 26,
   "metadata": {},
   "outputs": [
    {
     "name": "stdout",
     "output_type": "stream",
     "text": [
      "Hello, Alice! You are 30 years old.\n"
     ]
    }
   ],
   "source": [
    "data = {'name': 'Alice', 'age': 30}\n",
    "message = \"Hello, {name}! You are {age} years old.\"\n",
    "\n",
    "formatted_message = message.format_map(data)\n",
    "print(formatted_message)"
   ]
  },
  {
   "cell_type": "code",
   "execution_count": 29,
   "metadata": {},
   "outputs": [
    {
     "data": {
      "text/plain": [
       "2"
      ]
     },
     "execution_count": 29,
     "metadata": {},
     "output_type": "execute_result"
    }
   ],
   "source": [
    "string.find('l')"
   ]
  },
  {
   "cell_type": "code",
   "execution_count": 30,
   "metadata": {},
   "outputs": [
    {
     "data": {
      "text/plain": [
       "True"
      ]
     },
     "execution_count": 30,
     "metadata": {},
     "output_type": "execute_result"
    }
   ],
   "source": [
    "string.islower()"
   ]
  },
  {
   "cell_type": "code",
   "execution_count": 33,
   "metadata": {},
   "outputs": [
    {
     "data": {
      "text/plain": [
       "True"
      ]
     },
     "execution_count": 33,
     "metadata": {},
     "output_type": "execute_result"
    }
   ],
   "source": [
    "string.endswith('o')"
   ]
  },
  {
   "cell_type": "code",
   "execution_count": 35,
   "metadata": {},
   "outputs": [
    {
     "data": {
      "text/plain": [
       "True"
      ]
     },
     "execution_count": 35,
     "metadata": {},
     "output_type": "execute_result"
    }
   ],
   "source": [
    "string.isalpha() #checks if all characters in a string are alphabetical"
   ]
  },
  {
   "cell_type": "code",
   "execution_count": 57,
   "metadata": {},
   "outputs": [
    {
     "name": "stdout",
     "output_type": "stream",
     "text": [
      "JR                  Lord of the Rings   1500                \n",
      "authors             book                pages               \n",
      "JR                  Har P               600                 \n"
     ]
    }
   ],
   "source": [
    "library = {\n",
    "    ('authors','book','pages'),\n",
    "    ('JR','Har P','600'),\n",
    "    ('JR','Lord of the Rings','1500')\n",
    "}\n",
    "for author,book,page in library:\n",
    "    print(f\"{author:<20}{book:<20}{page:20}\")"
   ]
  }
 ],
 "metadata": {
  "kernelspec": {
   "display_name": "wp_nlp",
   "language": "python",
   "name": "python3"
  },
  "language_info": {
   "codemirror_mode": {
    "name": "ipython",
    "version": 3
   },
   "file_extension": ".py",
   "mimetype": "text/x-python",
   "name": "python",
   "nbconvert_exporter": "python",
   "pygments_lexer": "ipython3",
   "version": "3.12.4"
  }
 },
 "nbformat": 4,
 "nbformat_minor": 2
}

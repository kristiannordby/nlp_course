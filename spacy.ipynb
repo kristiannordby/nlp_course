{
 "cells": [
  {
   "cell_type": "markdown",
   "metadata": {},
   "source": [
    "# Week 3"
   ]
  },
  {
   "cell_type": "code",
   "execution_count": 1,
   "metadata": {},
   "outputs": [],
   "source": [
    "import spacy\n",
    "nlp = spacy.load('en_core_web_sm')"
   ]
  },
  {
   "cell_type": "code",
   "execution_count": 17,
   "metadata": {},
   "outputs": [
    {
     "name": "stdout",
     "output_type": "stream",
     "text": [
      "text: Tesla\t\t\tPOS: PROPN\tDEP: nsubj\n",
      "text: is\t\t\tPOS: AUX\tDEP: aux\n",
      "text: looking\t\t\tPOS: VERB\tDEP: ROOT\n",
      "text: at\t\t\tPOS: ADP\tDEP: prep\n",
      "text: buying\t\t\tPOS: VERB\tDEP: pcomp\n",
      "text: U.S.\t\t\tPOS: PROPN\tDEP: compound\n",
      "text: startup\t\t\tPOS: NOUN\tDEP: dobj\n",
      "text: for\t\t\tPOS: ADP\tDEP: prep\n",
      "text: $\t\t\tPOS: SYM\tDEP: quantmod\n",
      "text: 6\t\t\tPOS: NUM\tDEP: compound\n",
      "text: million\t\t\tPOS: NUM\tDEP: pobj\n"
     ]
    }
   ],
   "source": [
    "doc = nlp(u\"Tesla is looking at buying U.S. startup for $6 million\")\n",
    "\n",
    "for token in doc:\n",
    "    print(f\"text: {token.text}\\t\\t\\tPOS: {token.pos_}\\tDEP: {token.dep_}\")"
   ]
  },
  {
   "cell_type": "code",
   "execution_count": 18,
   "metadata": {},
   "outputs": [
    {
     "name": "stdout",
     "output_type": "stream",
     "text": [
      "len(doc): 11, type(doc): <class 'spacy.tokens.doc.Doc'>\n"
     ]
    }
   ],
   "source": [
    "print(f\"len(doc): {len(doc)}, type(doc): {type(doc)}\")"
   ]
  },
  {
   "cell_type": "code",
   "execution_count": 19,
   "metadata": {},
   "outputs": [
    {
     "data": {
      "text/plain": [
       "54"
      ]
     },
     "execution_count": 19,
     "metadata": {},
     "output_type": "execute_result"
    }
   ],
   "source": [
    "len(u\"Tesla is looking at buying U.S. startup for $6 million\")"
   ]
  },
  {
   "cell_type": "code",
   "execution_count": 32,
   "metadata": {},
   "outputs": [
    {
     "name": "stdout",
     "output_type": "stream",
     "text": [
      "Tesla \t Tesla\n",
      "is \t be\n",
      "looking \t look\n",
      "at \t at\n",
      "buying \t buy\n",
      "U.S. \t U.S.\n",
      "startup \t startup\n",
      "for \t for\n",
      "$ \t $\n",
      "6 \t 6\n",
      "million \t million\n"
     ]
    }
   ],
   "source": [
    "for token in doc:\n",
    "    print(token.text,\"\\t\",token.lemma_)"
   ]
  },
  {
   "cell_type": "code",
   "execution_count": 45,
   "metadata": {},
   "outputs": [
    {
     "name": "stdout",
     "output_type": "stream",
     "text": [
      "text\t\tis alpha?\t\tlemmatization\n",
      "----\t\t-----\t\t\t-----------------\n",
      "In \t\t True \t\t\t in\n",
      "the \t\t True \t\t\t the\n",
      "year \t\t True \t\t\t year\n",
      "of \t\t True \t\t\t of\n",
      "2024 \t\t False \t\t\t 2024\n",
      ", \t\t False \t\t\t ,\n",
      "I \t\t True \t\t\t I\n",
      "am \t\t True \t\t\t be\n",
      "going \t\t True \t\t\t go\n",
      "to \t\t True \t\t\t to\n",
      "make \t\t True \t\t\t make\n",
      "$ \t\t False \t\t\t $\n",
      "6,234,213 \t\t False \t\t\t 6,234,213\n",
      "and \t\t True \t\t\t and\n",
      "give \t\t True \t\t\t give\n",
      "it \t\t True \t\t\t it\n",
      "away \t\t True \t\t\t away\n",
      "to \t\t True \t\t\t to\n",
      "four \t\t True \t\t\t four\n",
      "people \t\t True \t\t\t people\n",
      ". \t\t False \t\t\t .\n"
     ]
    }
   ],
   "source": [
    "sentence = u\"In the year of 2024, I am going to make $6,234,213 and give it away to four people.\"\n",
    "doc = nlp(sentence)\n",
    "print(\"text\\t\\tis alpha?\\t\\tlemmatization\")\n",
    "print(\"----\\t\\t-----\\t\\t\\t-----------------\")\n",
    "for token in doc:\n",
    "    print(token.text,'\\t\\t',token.is_alpha,'\\t\\t\\t',token.lemma_)"
   ]
  },
  {
   "cell_type": "code",
   "execution_count": 48,
   "metadata": {},
   "outputs": [
    {
     "data": {
      "text/plain": [
       "['tok2vec', 'tagger', 'parser', 'attribute_ruler', 'lemmatizer', 'ner']"
      ]
     },
     "execution_count": 48,
     "metadata": {},
     "output_type": "execute_result"
    }
   ],
   "source": [
    "nlp.pipe_names"
   ]
  },
  {
   "cell_type": "code",
   "execution_count": 51,
   "metadata": {},
   "outputs": [
    {
     "data": {
      "text/plain": [
       "year"
      ]
     },
     "execution_count": 51,
     "metadata": {},
     "output_type": "execute_result"
    }
   ],
   "source": [
    "doc[2]"
   ]
  }
 ],
 "metadata": {
  "kernelspec": {
   "display_name": "wp_nlp",
   "language": "python",
   "name": "python3"
  },
  "language_info": {
   "codemirror_mode": {
    "name": "ipython",
    "version": 3
   },
   "file_extension": ".py",
   "mimetype": "text/x-python",
   "name": "python",
   "nbconvert_exporter": "python",
   "pygments_lexer": "ipython3",
   "version": "3.12.4"
  }
 },
 "nbformat": 4,
 "nbformat_minor": 2
}

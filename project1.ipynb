{
 "cells": [
  {
   "cell_type": "markdown",
   "metadata": {},
   "source": [
    "# Project 1"
   ]
  },
  {
   "cell_type": "markdown",
   "metadata": {},
   "source": [
    "We used `transformers` sentiment-analysis pipeline to conduct an advanced sentiment analysis. Using this pipeline, we did not need to clean our data, because the bert model under the pipeline comes with a custom tokenizer to account for special characters and white space. The Sentiment Analysis pipeline also takes into account stop words."
   ]
  },
  {
   "cell_type": "code",
   "execution_count": null,
   "metadata": {},
   "outputs": [],
   "source": [
    "from transformers import pipeline\n",
    "classifier = pipeline(\"sentiment-analysis\")"
   ]
  },
  {
   "cell_type": "markdown",
   "metadata": {},
   "source": [
    "We could not get our twitter API to work, so we pulled our data from https://www.kaggle.com/datasets/fastcurious/twitter-dataset-february-2024?resource=download. We load our data in a json format to be processed for sentiment analysis."
   ]
  },
  {
   "cell_type": "code",
   "execution_count": 10,
   "metadata": {},
   "outputs": [],
   "source": [
    "with open(r\"C:\\Users\\kristian.nordby\\OneDrive - West Point\\Desktop\\AY 25-1\\NLP\\dataset_tweet-scraper_2024-03-04_15-49-10-416.json\",'r') as f:\n",
    "    content = json.load(f)"
   ]
  },
  {
   "cell_type": "markdown",
   "metadata": {},
   "source": [
    "The following functions filter out the topic we are interested in then run a sentiment analysis using the pipeline. `get_text()` cleans our data to only include the text from tweets, `pull_topic()` filters the tweets to only include tweets that include our topics of interest, and `conduct_sentiment_analysis()` calls the transformers sentiment analysis pipeline. `pull_sentiment()` brings the functions together to run using all tweets and a topic as parameters, returning the sentiment analysis."
   ]
  },
  {
   "cell_type": "code",
   "execution_count": 31,
   "metadata": {},
   "outputs": [],
   "source": [
    "def get_text(tweets:list)->list:\n",
    "    text = []\n",
    "    for tweet in tweets:\n",
    "        if tweet['type']=='tweet':\n",
    "            text.append(tweet['text'])\n",
    "    return text\n",
    "\n",
    "text = get_text(content)"
   ]
  },
  {
   "cell_type": "code",
   "execution_count": 46,
   "metadata": {},
   "outputs": [],
   "source": [
    "def pull_topic(tweets:list,topic:str)->list:\n",
    "    tweets_ontopic=[]\n",
    "    for tweet in tweets:\n",
    "        if topic in str(tweet.lower()):\n",
    "            tweets_ontopic.append(tweet)\n",
    "    return tweets_ontopic"
   ]
  },
  {
   "cell_type": "code",
   "execution_count": 72,
   "metadata": {},
   "outputs": [],
   "source": [
    "def conduct_sentiment_analysis(tweets):\n",
    "    sentiments = []\n",
    "    for tweet in tweets:\n",
    "        if len(tweet)>512:\n",
    "            tweet = tweet[:512]\n",
    "        sentiments.append(classifier(tweet)[0]['label'])\n",
    "    sentiments = ' '.join(sentiments)\n",
    "    positive_prop = sentiments.count('POSITIVE')/len(tweets)\n",
    "    neutral_prop = sentiments.count('NEUTRAL')/len(tweets)\n",
    "    negative_prop = sentiments.count('NEGATIVE')/len(tweets)\n",
    "    print(f\"Positive Proportion: {positive_prop}, Negative Proportion: {negative_prop}, Neutral Proportion: {neutral_prop}\")\n",
    "    return positive_prop,negative_prop,neutral_prop"
   ]
  },
  {
   "cell_type": "code",
   "execution_count": 80,
   "metadata": {},
   "outputs": [],
   "source": [
    "def pull_sentiments(tweets:list,topic:str):\n",
    "    tweets_ontopic = pull_topic(tweets=tweets,topic=topic)\n",
    "    print(f\"{len(tweets_ontopic)} tweets mention {topic}.\")\n",
    "    pos,neg,neu = conduct_sentiment_analysis(tweets_ontopic)\n",
    "    return pos,neg,neu"
   ]
  },
  {
   "cell_type": "markdown",
   "metadata": {},
   "source": [
    "In our project, we were interested in how certain political icons were depicted by twitter users. We focused on Joe Biden, Donald Trump, Kamala Harris, and the white house. In our analysis, we wanted to see if certain politicians were depicted better than others, and whether or not the overall sentiment of politics (using key word \"white house\" as our baseline) reflected the average sentiment for our candidates of interest."
   ]
  },
  {
   "cell_type": "code",
   "execution_count": 81,
   "metadata": {},
   "outputs": [
    {
     "name": "stdout",
     "output_type": "stream",
     "text": [
      "58 tweets mention biden.\n",
      "Positive Proportion: 0.1896551724137931, Negative Proportion: 0.8103448275862069, Neutral Proportion: 0.0\n"
     ]
    },
    {
     "data": {
      "text/plain": [
       "(0.1896551724137931, 0.8103448275862069, 0.0)"
      ]
     },
     "execution_count": 81,
     "metadata": {},
     "output_type": "execute_result"
    }
   ],
   "source": [
    "pull_sentiments(text,\"biden\")"
   ]
  },
  {
   "cell_type": "code",
   "execution_count": 90,
   "metadata": {},
   "outputs": [
    {
     "name": "stdout",
     "output_type": "stream",
     "text": [
      "58 tweets mention biden.\n",
      "Positive Proportion: 0.1896551724137931, Negative Proportion: 0.8103448275862069, Neutral Proportion: 0.0\n",
      "58 tweets mention biden.\n",
      "Positive Proportion: 0.1896551724137931, Negative Proportion: 0.8103448275862069, Neutral Proportion: 0.0\n"
     ]
    }
   ],
   "source": [
    "pos_biden = pull_sentiments(tweets=text,topic=\"biden\")[0]\n",
    "neg_biden = pull_sentiments(tweets=text,topic=\"biden\")[1]"
   ]
  },
  {
   "cell_type": "code",
   "execution_count": 91,
   "metadata": {},
   "outputs": [
    {
     "name": "stdout",
     "output_type": "stream",
     "text": [
      "84 tweets mention trump.\n",
      "Positive Proportion: 0.15476190476190477, Negative Proportion: 0.8452380952380952, Neutral Proportion: 0.0\n",
      "84 tweets mention trump.\n",
      "Positive Proportion: 0.15476190476190477, Negative Proportion: 0.8452380952380952, Neutral Proportion: 0.0\n"
     ]
    }
   ],
   "source": [
    "pos_trump=pull_sentiments(tweets=text,topic=\"trump\")[0]\n",
    "neg_trump=pull_sentiments(tweets=text,topic=\"trump\")[1]"
   ]
  },
  {
   "cell_type": "code",
   "execution_count": 92,
   "metadata": {},
   "outputs": [
    {
     "name": "stdout",
     "output_type": "stream",
     "text": [
      "9 tweets mention kamala.\n",
      "Positive Proportion: 0.2222222222222222, Negative Proportion: 0.7777777777777778, Neutral Proportion: 0.0\n",
      "9 tweets mention kamala.\n",
      "Positive Proportion: 0.2222222222222222, Negative Proportion: 0.7777777777777778, Neutral Proportion: 0.0\n"
     ]
    }
   ],
   "source": [
    "pos_kam=pull_sentiments(tweets=text,topic=\"kamala\")[0]\n",
    "neg_kam=pull_sentiments(tweets=text,topic=\"kamala\")[1]"
   ]
  },
  {
   "cell_type": "code",
   "execution_count": 93,
   "metadata": {},
   "outputs": [
    {
     "name": "stdout",
     "output_type": "stream",
     "text": [
      "6 tweets mention white house.\n",
      "Positive Proportion: 0.0, Negative Proportion: 1.0, Neutral Proportion: 0.0\n",
      "6 tweets mention white house.\n",
      "Positive Proportion: 0.0, Negative Proportion: 1.0, Neutral Proportion: 0.0\n"
     ]
    }
   ],
   "source": [
    "pos_wh=pull_sentiments(tweets=text,topic=\"white house\")[0]\n",
    "neg_wh=pull_sentiments(tweets=text,topic=\"white house\")[1]"
   ]
  },
  {
   "cell_type": "markdown",
   "metadata": {},
   "source": [
    "Our Sentiment Analysis revealed that all politicians, regardless of party, are depicted in a negative light. This makes sense as the phrase \"white house\" had a 100% negative sentiment label."
   ]
  },
  {
   "cell_type": "code",
   "execution_count": 99,
   "metadata": {},
   "outputs": [
    {
     "data": {
      "text/plain": [
       "Text(0.5, 0, 'Topic or Person')"
      ]
     },
     "execution_count": 99,
     "metadata": {},
     "output_type": "execute_result"
    },
    {
     "data": {
      "image/png": "[encoded data removed]",
      "text/plain": [
       "<Figure size 640x480 with 1 Axes>"
      ]
     },
     "metadata": {},
     "output_type": "display_data"
    }
   ],
   "source": [
    "import matplotlib.pyplot as plt\n",
    "plt.bar(height=[pos_biden,pos_trump,pos_kam,pos_wh],x=[\"Biden\",'Trump','Kamala','White House'])\n",
    "plt.bar(height=[neg_biden*-1,neg_trump*-1,neg_kam*-1,neg_wh*-1],x=[\"Biden\",'Trump','Kamala','White House'])\n",
    "plt.ylabel(\"Proportion Positive Sentiment\")\n",
    "plt.xlabel(\"Topic or Person\")"
   ]
  }
 ],
 "metadata": {
  "kernelspec": {
   "display_name": "wp_nlp",
   "language": "python",
   "name": "python3"
  },
  "language_info": {
   "codemirror_mode": {
    "name": "ipython",
    "version": 3
   },
   "file_extension": ".py",
   "mimetype": "text/x-python",
   "name": "python",
   "nbconvert_exporter": "python",
   "pygments_lexer": "ipython3",
   "version": "3.12.4"
  }
 },
 "nbformat": 4,
 "nbformat_minor": 2
}

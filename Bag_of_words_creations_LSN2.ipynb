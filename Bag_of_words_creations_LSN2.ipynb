{
 "cells": [
  {
   "cell_type": "code",
   "execution_count": 3,
   "metadata": {},
   "outputs": [],
   "source": [
    "import numpy as np"
   ]
  },
  {
   "cell_type": "markdown",
   "metadata": {},
   "source": [
    "Starting from sentences"
   ]
  },
  {
   "cell_type": "code",
   "execution_count": 17,
   "metadata": {},
   "outputs": [],
   "source": [
    "d1 = \"I love natural language processing\"\n",
    "d2 = \"I enjoy machine learning and natural language processing\"\n",
    "\n",
    "d1 = d1.split()\n",
    "d2=d2.split()\n",
    "\n",
    "d=d1+d2\n",
    "d=list(set(d))\n",
    "\n",
    "d1v=[1 if any(substring in item for item in d1) else 0 for substring in d]\n",
    "d2v=[1 if any(substring in item for item in d2) else 0 for substring in d]\n",
    "\n",
    "dot=sum(a*b for a,b in zip(d1v,d2v))\n",
    "\n",
    "cos = dot/(np.linalg.vector_norm(np.array(d1v))*np.linalg.vector_norm(np.array(d2v)))"
   ]
  },
  {
   "cell_type": "code",
   "execution_count": 18,
   "metadata": {},
   "outputs": [
    {
     "data": {
      "text/plain": [
       "np.float64(0.6324555320336759)"
      ]
     },
     "execution_count": 18,
     "metadata": {},
     "output_type": "execute_result"
    }
   ],
   "source": [
    "cos"
   ]
  },
  {
   "cell_type": "markdown",
   "metadata": {},
   "source": [
    "## Using REGEX"
   ]
  },
  {
   "cell_type": "code",
   "execution_count": 19,
   "metadata": {
    "vscode": {
     "languageId": "latex"
    }
   },
   "outputs": [
    {
     "ename": "SyntaxError",
     "evalue": "unexpected character after line continuation character (3173945958.py, line 1)",
     "output_type": "error",
     "traceback": [
      "\u001b[1;36m  Cell \u001b[1;32mIn[19], line 1\u001b[1;36m\u001b[0m\n\u001b[1;33m    \\documentclass{article}\u001b[0m\n\u001b[1;37m     ^\u001b[0m\n\u001b[1;31mSyntaxError\u001b[0m\u001b[1;31m:\u001b[0m unexpected character after line continuation character\n"
     ]
    }
   ],
   "source": [
    "\\documentclass{article}\n",
    "\\begin{document}\n",
    "\\begin{itemize}\n",
    "    \\item the pattern r'[^\\w\\s]'\n",
    "    \\item matches any character that is not a word character or a whitespace character\n",
    "    \\item the prefix indicates that this is a raw string which treats backslashes literally\n",
    "\\end{itemize}\n",
    "\\end{document}"
   ]
  },
  {
   "cell_type": "code",
   "execution_count": null,
   "metadata": {},
   "outputs": [],
   "source": []
  }
 ],
 "metadata": {
  "kernelspec": {
   "display_name": "wp_nlp",
   "language": "python",
   "name": "python3"
  },
  "language_info": {
   "codemirror_mode": {
    "name": "ipython",
    "version": 3
   },
   "file_extension": ".py",
   "mimetype": "text/x-python",
   "name": "python",
   "nbconvert_exporter": "python",
   "pygments_lexer": "ipython3",
   "version": "3.12.4"
  }
 },
 "nbformat": 4,
 "nbformat_minor": 2
}

{
 "cells": [
  {
   "cell_type": "markdown",
   "id": "13e3057c",
   "metadata": {},
   "source": [
    "# NLTK"
   ]
  },
  {
   "cell_type": "code",
   "execution_count": 2,
   "id": "1f54cce4-f576-44ee-b4b4-751ac7e82ed2",
   "metadata": {},
   "outputs": [],
   "source": [
    "import nltk"
   ]
  },
  {
   "cell_type": "code",
   "execution_count": 3,
   "id": "670053aa",
   "metadata": {},
   "outputs": [],
   "source": [
    "from sklearn.feature_extraction.text import CountVectorizer"
   ]
  },
  {
   "cell_type": "code",
   "execution_count": 4,
   "id": "ab941397",
   "metadata": {},
   "outputs": [
    {
     "name": "stdout",
     "output_type": "stream",
     "text": [
      "Overlap: 0.22\n"
     ]
    }
   ],
   "source": [
    "def bag_of_words_overlap(doc1,doc2):\n",
    "    vectorizer = CountVectorizer().fit([doc1,doc2])\n",
    "    doc1_vector = vectorizer.transform([doc1]).toarray()[0]\n",
    "    doc2_vector = vectorizer.transform([doc2]).toarray()[0]\n",
    "    common_words = sum(min(a,b) for a,b in zip(doc1_vector,doc2_vector))\n",
    "    total_words = sum(doc1_vector) + sum(doc2_vector)\n",
    "    overlap = common_words / total_words\n",
    "    return overlap    \n",
    "\n",
    "doc1 = \"Natural Language Processing is fun\"\n",
    "doc2 = \"I love processing language tasks\"\n",
    "\n",
    "overlap = bag_of_words_overlap(doc1,doc2)\n",
    "print(f\"Overlap: {overlap:.2f}\")\n"
   ]
  },
  {
   "cell_type": "code",
   "execution_count": 10,
   "id": "92883a3b",
   "metadata": {},
   "outputs": [
    {
     "name": "stdout",
     "output_type": "stream",
     "text": [
      "[1 0 0 1 1 1 0]\n",
      "[0 1 1 1 1 1 1]\n"
     ]
    }
   ],
   "source": [
    "practice_doc1 = \"NLP Models are powerful\"\n",
    "practice_doc2 = \"Powerful models can handle NLP Tasks\"\n",
    "\n",
    "vectorizer = CountVectorizer().fit([practice_doc1,practice_doc2])\n",
    "doc1_vector = vectorizer.transform([practice_doc1]).toarray()[0]\n",
    "print(doc1_vector)\n",
    "\n",
    "doc2_vector = vectorizer.transform([practice_doc2]).toarray()[0]\n",
    "print(doc2_vector)\n",
    "\n"
   ]
  },
  {
   "cell_type": "code",
   "execution_count": 1,
   "id": "ad0c68ca",
   "metadata": {},
   "outputs": [],
   "source": [
    "from nltk import word_tokenize\n",
    "from nltk.util import ngrams"
   ]
  },
  {
   "cell_type": "code",
   "execution_count": 2,
   "id": "109314d2",
   "metadata": {},
   "outputs": [
    {
     "data": {
      "text/plain": [
       "['Machine', 'learning', 'models', 'are', 'effective']"
      ]
     },
     "execution_count": 2,
     "metadata": {},
     "output_type": "execute_result"
    }
   ],
   "source": [
    "sentence = \"Machine learning models are effective\"\n",
    "word_tokenize(sentence)"
   ]
  },
  {
   "cell_type": "code",
   "execution_count": 3,
   "id": "670244dd",
   "metadata": {},
   "outputs": [
    {
     "name": "stdout",
     "output_type": "stream",
     "text": [
      "2-grams: [('Machine', 'learning'), ('learning', 'models'), ('models', 'are'), ('are', 'effective')]\n"
     ]
    }
   ],
   "source": [
    "def extract_ngrams(text,n):\n",
    "    tokens = word_tokenize(text)\n",
    "    n_grams = list(ngrams(tokens,n))\n",
    "    print(f\"{n}-grams: {n_grams}\")\n",
    "\n",
    "sentence = \"Machine learning models are effective\"\n",
    "extract_ngrams(sentence, 2)"
   ]
  },
  {
   "cell_type": "code",
   "execution_count": 10,
   "id": "26937aa2",
   "metadata": {},
   "outputs": [
    {
     "name": "stdout",
     "output_type": "stream",
     "text": [
      "Original Sentence:  ['She', 'enjoys', 'running', 'in', 'the', 'park']\n",
      "After Lemmatization: ['She', 'enjoys', 'running', 'in', 'the', 'park']\n"
     ]
    }
   ],
   "source": [
    "#import nltk\n",
    "from nltk.stem import WordNetLemmatizer\n",
    "# nltk.download('wordnet')\n",
    "# nltk.download('omw-1.4')\n",
    "\n",
    "def lemmatization(sentence):\n",
    "    lemmatizer = WordNetLemmatizer()\n",
    "    tokens = word_tokenize(sentence)\n",
    "    lemmatized_tokens = [lemmatizer.lemmatize(token) for token in tokens]\n",
    "    print(\"Original Sentence: \",tokens)\n",
    "    print(f\"After Lemmatization: {lemmatized_tokens}\")\n",
    "\n",
    "sentence = \"She enjoys running in the park\"\n",
    "\n",
    "lemmatization(sentence)"
   ]
  },
  {
   "cell_type": "code",
   "execution_count": 4,
   "id": "40b7e385",
   "metadata": {},
   "outputs": [
    {
     "name": "stdout",
     "output_type": "stream",
     "text": [
      "Original Sentence:  ['He', 'keeps', 'running', 'all', 'day', 'long', '.']\n",
      "After Stemming:  ['he', 'keep', 'run', 'all', 'day', 'long', '.']\n"
     ]
    }
   ],
   "source": [
    "from nltk.stem import PorterStemmer\n",
    "\n",
    "def apply_stemming(sentence):\n",
    "    stemmer = PorterStemmer()\n",
    "    tokens = word_tokenize(sentence)\n",
    "    stemmed_tokens = [stemmer.stem(token) for token in tokens]\n",
    "    print(\"Original Sentence: \",tokens)\n",
    "    print(\"After Stemming: \",stemmed_tokens)\n",
    "\n",
    "sentence = \"He keeps running all day long.\"\n",
    "apply_stemming(sentence)"
   ]
  }
 ],
 "metadata": {
  "kernelspec": {
   "display_name": "Python 3 (ipykernel)",
   "language": "python",
   "name": "python3"
  },
  "language_info": {
   "codemirror_mode": {
    "name": "ipython",
    "version": 3
   },
   "file_extension": ".py",
   "mimetype": "text/x-python",
   "name": "python",
   "nbconvert_exporter": "python",
   "pygments_lexer": "ipython3",
   "version": "3.12.4"
  }
 },
 "nbformat": 4,
 "nbformat_minor": 5
}
